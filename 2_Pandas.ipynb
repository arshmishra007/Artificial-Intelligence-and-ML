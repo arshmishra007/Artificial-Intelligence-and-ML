{
 "cells": [
  {
   "cell_type": "markdown",
   "metadata": {},
   "source": [
    "# 2_Pandas Practical"
   ]
  },
  {
   "cell_type": "code",
   "execution_count": 1,
   "metadata": {},
   "outputs": [],
   "source": [
    "import pandas as pd"
   ]
  },
  {
   "cell_type": "code",
   "execution_count": 2,
   "metadata": {},
   "outputs": [],
   "source": [
    "#series  - > 1 d labelled data\n",
    "\n",
    "s = pd.Series([1,2,3,4,5,6,7,8,9])"
   ]
  },
  {
   "cell_type": "code",
   "execution_count": 3,
   "metadata": {},
   "outputs": [
    {
     "name": "stdout",
     "output_type": "stream",
     "text": [
      "0    1\n",
      "1    2\n",
      "2    3\n",
      "3    4\n",
      "4    5\n",
      "5    6\n",
      "6    7\n",
      "7    8\n",
      "8    9\n",
      "dtype: int64\n"
     ]
    }
   ],
   "source": [
    "print(s)"
   ]
  },
  {
   "cell_type": "code",
   "execution_count": 4,
   "metadata": {},
   "outputs": [
    {
     "name": "stdout",
     "output_type": "stream",
     "text": [
      "1\n",
      "2\n"
     ]
    }
   ],
   "source": [
    "#accessing elements in the series\n",
    "\n",
    "print(s[0])\n",
    "print(s[1])"
   ]
  },
  {
   "cell_type": "code",
   "execution_count": 6,
   "metadata": {},
   "outputs": [
    {
     "name": "stdout",
     "output_type": "stream",
     "text": [
      "0     3\n",
      "1     6\n",
      "2     9\n",
      "3    12\n",
      "4    15\n",
      "5    18\n",
      "6    21\n",
      "7    24\n",
      "8    27\n",
      "dtype: int64\n",
      "0     4\n",
      "1     5\n",
      "2     6\n",
      "3     7\n",
      "4     8\n",
      "5     9\n",
      "6    10\n",
      "7    11\n",
      "8    12\n",
      "dtype: int64\n"
     ]
    }
   ],
   "source": [
    "#element wise operations\n",
    "print(s*3)\n",
    "print(s+3)"
   ]
  },
  {
   "cell_type": "code",
   "execution_count": 7,
   "metadata": {},
   "outputs": [],
   "source": [
    "#dataframe -> 2D dataframe\n",
    "\n",
    "df = pd.DataFrame([1,2,3,4,5,6,7,8,9])"
   ]
  },
  {
   "cell_type": "code",
   "execution_count": 8,
   "metadata": {},
   "outputs": [
    {
     "name": "stdout",
     "output_type": "stream",
     "text": [
      "   0\n",
      "0  1\n",
      "1  2\n",
      "2  3\n",
      "3  4\n",
      "4  5\n",
      "5  6\n",
      "6  7\n",
      "7  8\n",
      "8  9\n"
     ]
    }
   ],
   "source": [
    "print(df)"
   ]
  },
  {
   "cell_type": "code",
   "execution_count": 9,
   "metadata": {},
   "outputs": [
    {
     "name": "stdout",
     "output_type": "stream",
     "text": [
      "2\n"
     ]
    }
   ],
   "source": [
    "#for checking the domensions\n",
    "print(df.ndim)"
   ]
  },
  {
   "cell_type": "code",
   "execution_count": 10,
   "metadata": {},
   "outputs": [],
   "source": [
    "#dataframe is always of two dimensions\n"
   ]
  },
  {
   "cell_type": "code",
   "execution_count": 11,
   "metadata": {},
   "outputs": [
    {
     "name": "stdout",
     "output_type": "stream",
     "text": [
      "(9, 1)\n"
     ]
    }
   ],
   "source": [
    "print(df.shape)"
   ]
  },
  {
   "cell_type": "code",
   "execution_count": 12,
   "metadata": {},
   "outputs": [],
   "source": [
    "#it means 9 ro and 1 col"
   ]
  },
  {
   "cell_type": "code",
   "execution_count": 13,
   "metadata": {},
   "outputs": [],
   "source": [
    "df1 = pd.DataFrame([['abc',50],['def',49],['ghi',48]],columns=['Name' , 'Marks'])"
   ]
  },
  {
   "cell_type": "code",
   "execution_count": 14,
   "metadata": {},
   "outputs": [
    {
     "name": "stdout",
     "output_type": "stream",
     "text": [
      "  Name  Marks\n",
      "0  abc     50\n",
      "1  def     49\n",
      "2  ghi     48\n"
     ]
    }
   ],
   "source": [
    "print(df1)"
   ]
  },
  {
   "cell_type": "code",
   "execution_count": 15,
   "metadata": {},
   "outputs": [
    {
     "name": "stdout",
     "output_type": "stream",
     "text": [
      "0    abc\n",
      "1    def\n",
      "2    ghi\n",
      "Name: Name, dtype: object\n"
     ]
    }
   ],
   "source": [
    "#for accessing all the first column values\n",
    "\n",
    "print(df1['Name'])"
   ]
  },
  {
   "cell_type": "code",
   "execution_count": 16,
   "metadata": {},
   "outputs": [
    {
     "name": "stdout",
     "output_type": "stream",
     "text": [
      "0    50\n",
      "1    49\n",
      "2    48\n",
      "Name: Marks, dtype: int64\n"
     ]
    }
   ],
   "source": [
    "# accessing the second elements\n",
    "\n",
    "print(df1['Marks'])"
   ]
  },
  {
   "cell_type": "code",
   "execution_count": 18,
   "metadata": {},
   "outputs": [],
   "source": [
    "#for reading the csv file use --> df = pd.read_csv(\"complete file path\")\n",
    "#display the first five records --> print(df.head())\n",
    "#for getting the shape  --> print(df.shape)\n",
    "#loc func uses labels for accessing the values while iloc uses indexing\n",
    "#example\n",
    "#print(df.loc[1:5])\n",
    "#or\n",
    "#print(df.iloc[1:5,[\"list of column values to be displayed\"]])\n",
    "\n",
    "#df.iloc[1:5,[0,1]] here we used index values only no lable names\n",
    "\n",
    "#for accessing the unique values use -->  .unique()\n",
    "\n",
    "#for counting the no of category count of these unique values use value_counts()\n",
    "\n",
    "#for printing the columns use print(df.columns)\n",
    "\n",
    "#for applying a single function to the whole bunch of values present in the row of a dataframe use .apply()"
   ]
  },
  {
   "cell_type": "code",
   "execution_count": null,
   "metadata": {},
   "outputs": [],
   "source": []
  }
 ],
 "metadata": {
  "kernelspec": {
   "display_name": "Python 3",
   "language": "python",
   "name": "python3"
  },
  "language_info": {
   "codemirror_mode": {
    "name": "ipython",
    "version": 3
   },
   "file_extension": ".py",
   "mimetype": "text/x-python",
   "name": "python",
   "nbconvert_exporter": "python",
   "pygments_lexer": "ipython3",
   "version": "3.7.6"
  }
 },
 "nbformat": 4,
 "nbformat_minor": 4
}
